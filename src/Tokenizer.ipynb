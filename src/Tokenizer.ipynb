{
 "cells": [
  {
   "cell_type": "code",
   "execution_count": null,
   "metadata": {
    "collapsed": true
   },
   "outputs": [],
   "source": [
    "import sys\n",
    "import math\n",
    "import os\n",
    "from collections import defaultdict"
   ]
  },
  {
   "cell_type": "code",
   "execution_count": null,
   "metadata": {
    "collapsed": true
   },
   "outputs": [],
   "source": [
    "def printer(fil):\n",
    "    for w in fil.keys():\n",
    "        print w, \" : \", fil[w]\n",
    "    return 0"
   ]
  },
  {
   "cell_type": "code",
   "execution_count": null,
   "metadata": {
    "collapsed": false
   },
   "outputs": [],
   "source": [
    "def parser(path,filename,att):\n",
    "    ls = defaultdict(int)\n",
    "    fpath = path + filename\n",
    "    f = open(fpath,att)\n",
    "    tl = f.readlines()\n",
    "    sz = len(tl)\n",
    "    if(sz == 1):\n",
    "        for ws in tl[0].split():\n",
    "            ls[ws] = ls[ws] + 1\n",
    "    else:\n",
    "        for ws in tl[sz-1].split():\n",
    "            ls[ws] = ls[ws] + 1\n",
    "    return ls"
   ]
  },
  {
   "cell_type": "code",
   "execution_count": null,
   "metadata": {
    "collapsed": false
   },
   "outputs": [],
   "source": [
    "def removeWords(stopws,dataws):\n",
    "    ls = defaultdict(int)\n",
    "    for w in dataws.keys():\n",
    "        if w not in stopws.keys():\n",
    "            ls[w] = dataws[w]       \n",
    "    return ls"
   ]
  },
  {
   "cell_type": "code",
   "execution_count": null,
   "metadata": {
    "collapsed": false
   },
   "outputs": [],
   "source": [
    "dataPath = \"../data/text/\"\n",
    "stopWordsPath = \"../data/\"\n",
    "lsw = parser(stopWordsPath,'realStopwords.txt','r')\n",
    "#printer(lsw)\n",
    "cnt = 0\n",
    "for fn in os.listdir(dataPath):\n",
    "    if (cnt < 1):\n",
    "        ldw = parser(dataPath,fn,'r') #list of words in a file\n",
    "        f = removeWords(lsw,ldw)\n",
    "        printer(f)\n",
    "    cnt +=1   \n"
   ]
  },
  {
   "cell_type": "code",
   "execution_count": null,
   "metadata": {
    "collapsed": true
   },
   "outputs": [],
   "source": []
  },
  {
   "cell_type": "code",
   "execution_count": null,
   "metadata": {
    "collapsed": true
   },
   "outputs": [],
   "source": []
  }
 ],
 "metadata": {
  "anaconda-cloud": {},
  "kernelspec": {
   "display_name": "Python [conda root]",
   "language": "python",
   "name": "conda-root-py"
  },
  "language_info": {
   "codemirror_mode": {
    "name": "ipython",
    "version": 2
   },
   "file_extension": ".py",
   "mimetype": "text/x-python",
   "name": "python",
   "nbconvert_exporter": "python",
   "pygments_lexer": "ipython2",
   "version": "2.7.12"
  }
 },
 "nbformat": 4,
 "nbformat_minor": 1
}
